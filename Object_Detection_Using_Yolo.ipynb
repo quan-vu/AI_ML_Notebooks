{
  "nbformat": 4,
  "nbformat_minor": 0,
  "metadata": {
    "colab": {
      "name": "Object Detection Using Yolo.ipynb",
      "provenance": [],
      "authorship_tag": "ABX9TyMAgbg3pS3NNOOi5GpQ8PgK",
      "include_colab_link": true
    },
    "kernelspec": {
      "name": "python3",
      "display_name": "Python 3"
    }
  },
  "cells": [
    {
      "cell_type": "markdown",
      "metadata": {
        "id": "view-in-github",
        "colab_type": "text"
      },
      "source": [
        "<a href=\"https://colab.research.google.com/github/quan-vu/python-notebooks/blob/master/Object_Detection_Using_Yolo.ipynb\" target=\"_parent\"><img src=\"https://colab.research.google.com/assets/colab-badge.svg\" alt=\"Open In Colab\"/></a>"
      ]
    },
    {
      "cell_type": "code",
      "metadata": {
        "id": "Z9iOWcQk5yh7",
        "colab_type": "code",
        "colab": {}
      },
      "source": [
        "#1"
      ],
      "execution_count": 0,
      "outputs": []
    }
  ]
}